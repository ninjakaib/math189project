{
 "cells": [
  {
   "cell_type": "markdown",
   "id": "10236bf1",
   "metadata": {},
   "source": [
    "For my hypothesis test, I am hypothesizing that various columns will have adverse effects on whether or not someone will have diabetes. I am going to run *** seperate tests in order to test the if the values in the *** columns can indicate whether someone is more or less likely to get diabetes.\n",
    "\n",
    "**H0**: The mean of the values in *** columns will be roughly the same for patients with diabetes and those without.\n",
    "\n",
    "**H1**: The mean of the values in the *** columns will be significantly different for the patients with diabetes compared to patients without diabetes.\n",
    "\n",
    "\n",
    "**Results**\n",
    "\n",
    "According the the p-values, BMI, physical health and mental health are all strong indicators of a patients alikelihood to end up with diabetes. All of the columns showed a p-value of 0 which indicates that there is very significant differences in their values for patients with diabetes compared to those without. \n",
    "\n",
    "\n",
    "Upon further analysis, it may appear that columns such as the mental health columns might not directly effect whether or not a patient has diabetes. Instead, it is likely that mental health is conditionally indepedent from diabetes, given other factors such as physical health or BMI."
   ]
  },
  {
   "cell_type": "code",
   "execution_count": 7,
   "id": "26b49d0d",
   "metadata": {},
   "outputs": [
    {
     "name": "stdout",
     "output_type": "stream",
     "text": [
      "Chi-Square Test Results:\n",
      "HighBP: p-value = 0.0\n",
      "HighChol: p-value = 0.0\n",
      "CholCheck: p-value = 3.7513988789188705e-233\n",
      "Smoker: p-value = 8.640171809942516e-206\n",
      "Stroke: p-value = 0.0\n",
      "HeartDiseaseorAttack: p-value = 0.0\n",
      "PhysActivity: p-value = 0.0\n",
      "Fruits: p-value = 1.0881213885155634e-93\n",
      "Veggies: p-value = 1.4630291539062376e-178\n",
      "HvyAlcoholConsump: p-value = 1.8659318101056406e-181\n",
      "AnyHealthcare: p-value = 2.986181073970452e-16\n",
      "NoDocbcCost: p-value = 2.218395410122378e-56\n",
      "DiffWalk: p-value = 0.0\n",
      "Sex: p-value = 2.1098747365768505e-56\n",
      "\n",
      "T-Test Results:\n",
      "BMI: p-value = 0.0\n",
      "MentHlth: p-value = 0.0\n",
      "PhysHlth: p-value = 0.0\n"
     ]
    }
   ],
   "source": [
    "import pandas as pd\n",
    "import scipy.stats as stats\n",
    "\n",
    "df = pd.read_csv('diabetes.csv')\n",
    "\n",
    "categorical_vars = ['HighBP', 'HighChol', 'CholCheck', 'Smoker', 'Stroke', 'HeartDiseaseorAttack',\n",
    "                    'PhysActivity', 'Fruits', 'Veggies', 'HvyAlcoholConsump', 'AnyHealthcare',\n",
    "                    'NoDocbcCost', 'DiffWalk', 'Sex']\n",
    "\n",
    "chi_results = {}\n",
    "\n",
    "for var in categorical_vars:\n",
    "    contingency_table = pd.crosstab(df[var], df['Diabetes_binary'])\n",
    "    chi2, p, dof, expected = stats.chi2_contingency(contingency_table)\n",
    "    chi_results[var] = p\n",
    "\n",
    "continuous_vars = ['BMI', 'MentHlth', 'PhysHlth']\n",
    "\n",
    "t_results = {}\n",
    "\n",
    "for var in continuous_vars:\n",
    "    group1 = df[df['Diabetes_binary'] == 0][var]\n",
    "    group2 = df[df['Diabetes_binary'] == 1][var]\n",
    "    t_stat, p_val = stats.ttest_ind(group1, group2, equal_var=True, permutations=1000, alternative='less')\n",
    "    t_results[var] = p_val\n",
    "\n",
    "print(\"Chi-Square Test Results:\")\n",
    "for var, p_val in chi_results.items():\n",
    "    print(f\"{var}: p-value = {p_val}\")\n",
    "\n",
    "print(\"\\nT-Test Results:\")\n",
    "for var, p_val in t_results.items():\n",
    "    print(f\"{var}: p-value = {p_val}\")\n"
   ]
  },
  {
   "cell_type": "markdown",
   "id": "86cd4f7b",
   "metadata": {},
   "source": [
    "For the second hypothesis test, I am going to test the validity of the first hypothesis test to see if mental health really does cause diabetes or both are caused by physical health. I am going to find the correlation between mental and physical health by using a linear regression model between mental health and physical health values, then I will fit a linear regression model for diabetes and physical health. Finally I will find the correlation between the residuals to conclude whether or not there is conditional independence.\n",
    "\n",
    "**H0**: Mental health and diabetes are conditionally independent given phyiscal health.\n",
    "\n",
    "**H1**: Mental health and diabetes are not conditionally independent given phyiscal health.\n",
    "\n",
    "\n",
    "**Results**\n",
    "\n",
    "The correlation was not strong enough and therefore we must reject the null hypothesis. Mental health and diabetes are NOT conditionally independent given phyiscal health."
   ]
  },
  {
   "cell_type": "code",
   "execution_count": 10,
   "id": "dc239993",
   "metadata": {},
   "outputs": [
    {
     "name": "stdout",
     "output_type": "stream",
     "text": [
      "Correlation: 0.009470046225059\n",
      "P-value: 1.8438236078563135e-06\n"
     ]
    }
   ],
   "source": [
    "import statsmodels.api as sm\n",
    "from scipy.stats import pearsonr\n",
    "\n",
    "X1 = sm.add_constant(df['PhysHlth'])\n",
    "model1 = sm.OLS(df['MentHlth'], X1).fit()\n",
    "residuals_menthlth = model1.resid\n",
    "\n",
    "X2 = sm.add_constant(df['PhysHlth'])\n",
    "model2 = sm.OLS(df['Diabetes_binary'], X2).fit()\n",
    "residuals_diabetes = model2.resid\n",
    "\n",
    "correlation, p_value = pearsonr(residuals_menthlth, residuals_diabetes)\n",
    "\n",
    "print(f\"Correlation: {correlation}\")\n",
    "print(f\"P-value: {p_value}\")\n"
   ]
  },
  {
   "cell_type": "code",
   "execution_count": null,
   "id": "68ac83cb",
   "metadata": {},
   "outputs": [],
   "source": []
  }
 ],
 "metadata": {
  "kernelspec": {
   "display_name": "Python 3 (ipykernel)",
   "language": "python",
   "name": "python3"
  },
  "language_info": {
   "codemirror_mode": {
    "name": "ipython",
    "version": 3
   },
   "file_extension": ".py",
   "mimetype": "text/x-python",
   "name": "python",
   "nbconvert_exporter": "python",
   "pygments_lexer": "ipython3",
   "version": "3.9.13"
  }
 },
 "nbformat": 4,
 "nbformat_minor": 5
}
