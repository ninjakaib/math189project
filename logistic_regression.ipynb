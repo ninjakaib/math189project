{
 "cells": [
  {
   "cell_type": "markdown",
   "metadata": {
    "id": "TEcocyJxBzVR"
   },
   "source": [
    "# MATH 189 Project\n",
    "\n",
    "Exploring Health-Related Factors Associated with Diabetes in the United States"
   ]
  },
  {
   "cell_type": "markdown",
   "metadata": {},
   "source": [
    "## Setup"
   ]
  },
  {
   "cell_type": "code",
   "execution_count": 2,
   "metadata": {},
   "outputs": [],
   "source": [
    "import pandas as pd\n",
    "import numpy as np\n",
    "\n",
    "import plotly.express as px\n",
    "import seaborn as sns\n",
    "import matplotlib.pyplot as plt\n",
    "\n",
    "import scipy.stats as stats\n",
    "import sklearn.metrics as metrics\n",
    "\n",
    "import statsmodels.api as sm\n",
    "import statsmodels.formula.api as smf\n",
    "from statsmodels.graphics.tsaplots import plot_acf\n",
    "\n",
    "from statsmodels.stats.outliers_influence import variance_inflation_factor\n",
    "\n",
    "import lxml\n",
    "\n",
    "def standardize(X):\n",
    "    return (X - X.mean()) / X.std()"
   ]
  },
  {
   "cell_type": "markdown",
   "metadata": {},
   "source": [
    "Data from the CDC Diabetes Health Indicators Dataset, which is available at the UCI Machine Learning Repository. This dataset contains healthcare statistics and lifestyle survey information about people in general along with their diagnosis of diabete, with core features BMI, Smoker, Stroke, age, making it ideal for our analysis. The features are the following:\n",
    "\n",
    "\n",
    "1. `Diabetes_binary`: \n",
    "    * Target variable\n",
    "    * categorical: 0 = no diabetes 1 = prediabetes or diabetes\n",
    "2. `HighBP`: \n",
    "    * categorical: 0 = no high BP 1 = high BP\n",
    "4. `HighChol`: \n",
    "    * categorical: 0 = no high cholesterol 1 = high cholesterol\n",
    "5. `CholCheck`: \n",
    "    * categorical: 0 = no cholesterol check in 5 years 1 = yes cholesterol check in 5 years\t\n",
    "6. `BMI`: \n",
    "    * discrete quantitative\n",
    "    * Body Mass Index\n",
    "7. `Smoker`: \n",
    "    * categorical(0 = no 1 = yes)\n",
    "    * Have you smoked at least 100 cigarettes in your entire life? [Note: 5 packs = 100 cigarettes]\n",
    "8. `Stroke`:\n",
    "    * categorical(0 = no 1 = yes)\n",
    "    * (Ever told) you had a stroke\n",
    "9. `HeartDiseaseorAttack`:\n",
    "    * categorical(0 = no 1 = yes)\n",
    "    * coronary heart disease (CHD) or myocardial infarction (MI)\n",
    "10. `PhysActivity`: \n",
    "    * categorical(0 = no 1 = yes)\n",
    "    * physical activity in past 30 days - not including job\n",
    "11. `Fruits`: \n",
    "    * categorical(0 = no 1 = yes)\n",
    "    * Consume Fruit 1 or more times per day\n",
    "12. `Veggies`: \n",
    "    * categorical(0 = no 1 = yes)\n",
    "    * Consume Vegetables 1 or more times per day\n",
    "13. `HvyAlcoholConsump`:\n",
    "    * categorical(0 = no 1 = yes)\n",
    "    * Heavy drinkers (adult men having more than 14 drinks per week and adult women having more than 7 drinks per week)\n",
    "14. `AnyHealthcare`: \n",
    "    * categorical(0 = no 1 = yes)\n",
    "    * Have any kind of health care coverage, including health insurance, prepaid plans such as HMO, etc.\n",
    "15. `NoDocbcCost`: \n",
    "    * categorical(0 = no 1 = yes)\t\t\n",
    "    * Was there a time in the past 12 months when you needed to see a doctor but could not because of cost? \t\n",
    "16. `GenHlth`: \n",
    "    * ordinal: 1 = excellent 2 = very good 3 = good 4 = fair 5 = poor\n",
    "    * Would you say that in general your health is\n",
    "17. `MentHlth`:\n",
    "    * discrete quantitative\n",
    "    * Now thinking about your mental health, which includes stress, depression, and problems with emotions, for how many days during the past 30 days was your mental health not good? scale 1-30 days\n",
    "18. `PhysHlth`: \n",
    "    * discrete quantitative \n",
    "    * Now thinking about your physical health, which includes physical illness and injury, for how many days during the past 30 days was your physical health not good? scale 1-30 days\n",
    "19. `DiffWalk`: \n",
    "    * categorical (0 = no 1 = yes)\t\n",
    "    * Do you have serious difficulty walking or climbing stairs? \n",
    "20. `Sex`: \n",
    "    * categorical(0 = female 1 = male)\n",
    "21. `Age`: \n",
    "    * ordinal: 13-level age category (1 = 18-24, ..., 9 = 60-64, 13 = 80 or older)\n",
    "22. `Education`: \n",
    "    * ordinal: 6-level education category (1 = Never attended school or only kindergarten, 2 = Grades 1 through 8 (Elementary), 3 = Grades 9 through 11 (Some high school), 4 = Grade 12 or GED (High school graduate), 5 = College 1 year to 3 years (Some college or technical school), 6 = College 4 years or more (College graduate))\n",
    "23. `Income`: \n",
    "    * ordinal: 8-level Income scale (1 = less than 10,000, 5 = less than 35,000, 8 = 75,000 or more)"
   ]
  },
  {
   "cell_type": "markdown",
   "metadata": {},
   "source": [
    "> a. Load the dataset and display the first 5 rows of the dataset."
   ]
  },
  {
   "cell_type": "code",
   "execution_count": 3,
   "metadata": {},
   "outputs": [],
   "source": [
    "df = pd.read_csv(\"diabetes.csv\")\n",
    "df.drop(\"Unnamed: 0\", axis = 1, inplace = True)"
   ]
  },
  {
   "cell_type": "code",
   "execution_count": 4,
   "metadata": {},
   "outputs": [
    {
     "data": {
      "text/html": [
       "<div>\n",
       "<style scoped>\n",
       "    .dataframe tbody tr th:only-of-type {\n",
       "        vertical-align: middle;\n",
       "    }\n",
       "\n",
       "    .dataframe tbody tr th {\n",
       "        vertical-align: top;\n",
       "    }\n",
       "\n",
       "    .dataframe thead th {\n",
       "        text-align: right;\n",
       "    }\n",
       "</style>\n",
       "<table border=\"1\" class=\"dataframe\">\n",
       "  <thead>\n",
       "    <tr style=\"text-align: right;\">\n",
       "      <th></th>\n",
       "      <th>HighBP</th>\n",
       "      <th>HighChol</th>\n",
       "      <th>CholCheck</th>\n",
       "      <th>BMI</th>\n",
       "      <th>Smoker</th>\n",
       "      <th>Stroke</th>\n",
       "      <th>HeartDiseaseorAttack</th>\n",
       "      <th>PhysActivity</th>\n",
       "      <th>Fruits</th>\n",
       "      <th>Veggies</th>\n",
       "      <th>...</th>\n",
       "      <th>NoDocbcCost</th>\n",
       "      <th>GenHlth</th>\n",
       "      <th>MentHlth</th>\n",
       "      <th>PhysHlth</th>\n",
       "      <th>DiffWalk</th>\n",
       "      <th>Sex</th>\n",
       "      <th>Age</th>\n",
       "      <th>Education</th>\n",
       "      <th>Income</th>\n",
       "      <th>Diabetes_binary</th>\n",
       "    </tr>\n",
       "  </thead>\n",
       "  <tbody>\n",
       "    <tr>\n",
       "      <th>0</th>\n",
       "      <td>1</td>\n",
       "      <td>1</td>\n",
       "      <td>1</td>\n",
       "      <td>40</td>\n",
       "      <td>1</td>\n",
       "      <td>0</td>\n",
       "      <td>0</td>\n",
       "      <td>0</td>\n",
       "      <td>0</td>\n",
       "      <td>1</td>\n",
       "      <td>...</td>\n",
       "      <td>0</td>\n",
       "      <td>5</td>\n",
       "      <td>18</td>\n",
       "      <td>15</td>\n",
       "      <td>1</td>\n",
       "      <td>0</td>\n",
       "      <td>9</td>\n",
       "      <td>4</td>\n",
       "      <td>3</td>\n",
       "      <td>0</td>\n",
       "    </tr>\n",
       "    <tr>\n",
       "      <th>1</th>\n",
       "      <td>0</td>\n",
       "      <td>0</td>\n",
       "      <td>0</td>\n",
       "      <td>25</td>\n",
       "      <td>1</td>\n",
       "      <td>0</td>\n",
       "      <td>0</td>\n",
       "      <td>1</td>\n",
       "      <td>0</td>\n",
       "      <td>0</td>\n",
       "      <td>...</td>\n",
       "      <td>1</td>\n",
       "      <td>3</td>\n",
       "      <td>0</td>\n",
       "      <td>0</td>\n",
       "      <td>0</td>\n",
       "      <td>0</td>\n",
       "      <td>7</td>\n",
       "      <td>6</td>\n",
       "      <td>1</td>\n",
       "      <td>0</td>\n",
       "    </tr>\n",
       "    <tr>\n",
       "      <th>2</th>\n",
       "      <td>1</td>\n",
       "      <td>1</td>\n",
       "      <td>1</td>\n",
       "      <td>28</td>\n",
       "      <td>0</td>\n",
       "      <td>0</td>\n",
       "      <td>0</td>\n",
       "      <td>0</td>\n",
       "      <td>1</td>\n",
       "      <td>0</td>\n",
       "      <td>...</td>\n",
       "      <td>1</td>\n",
       "      <td>5</td>\n",
       "      <td>30</td>\n",
       "      <td>30</td>\n",
       "      <td>1</td>\n",
       "      <td>0</td>\n",
       "      <td>9</td>\n",
       "      <td>4</td>\n",
       "      <td>8</td>\n",
       "      <td>0</td>\n",
       "    </tr>\n",
       "    <tr>\n",
       "      <th>3</th>\n",
       "      <td>1</td>\n",
       "      <td>0</td>\n",
       "      <td>1</td>\n",
       "      <td>27</td>\n",
       "      <td>0</td>\n",
       "      <td>0</td>\n",
       "      <td>0</td>\n",
       "      <td>1</td>\n",
       "      <td>1</td>\n",
       "      <td>1</td>\n",
       "      <td>...</td>\n",
       "      <td>0</td>\n",
       "      <td>2</td>\n",
       "      <td>0</td>\n",
       "      <td>0</td>\n",
       "      <td>0</td>\n",
       "      <td>0</td>\n",
       "      <td>11</td>\n",
       "      <td>3</td>\n",
       "      <td>6</td>\n",
       "      <td>0</td>\n",
       "    </tr>\n",
       "    <tr>\n",
       "      <th>4</th>\n",
       "      <td>1</td>\n",
       "      <td>1</td>\n",
       "      <td>1</td>\n",
       "      <td>24</td>\n",
       "      <td>0</td>\n",
       "      <td>0</td>\n",
       "      <td>0</td>\n",
       "      <td>1</td>\n",
       "      <td>1</td>\n",
       "      <td>1</td>\n",
       "      <td>...</td>\n",
       "      <td>0</td>\n",
       "      <td>2</td>\n",
       "      <td>3</td>\n",
       "      <td>0</td>\n",
       "      <td>0</td>\n",
       "      <td>0</td>\n",
       "      <td>11</td>\n",
       "      <td>5</td>\n",
       "      <td>4</td>\n",
       "      <td>0</td>\n",
       "    </tr>\n",
       "  </tbody>\n",
       "</table>\n",
       "<p>5 rows × 22 columns</p>\n",
       "</div>"
      ],
      "text/plain": [
       "   HighBP  HighChol  CholCheck  BMI  Smoker  Stroke  HeartDiseaseorAttack  \\\n",
       "0       1         1          1   40       1       0                     0   \n",
       "1       0         0          0   25       1       0                     0   \n",
       "2       1         1          1   28       0       0                     0   \n",
       "3       1         0          1   27       0       0                     0   \n",
       "4       1         1          1   24       0       0                     0   \n",
       "\n",
       "   PhysActivity  Fruits  Veggies  ...  NoDocbcCost  GenHlth  MentHlth  \\\n",
       "0             0       0        1  ...            0        5        18   \n",
       "1             1       0        0  ...            1        3         0   \n",
       "2             0       1        0  ...            1        5        30   \n",
       "3             1       1        1  ...            0        2         0   \n",
       "4             1       1        1  ...            0        2         3   \n",
       "\n",
       "   PhysHlth  DiffWalk  Sex  Age  Education  Income  Diabetes_binary  \n",
       "0        15         1    0    9          4       3                0  \n",
       "1         0         0    0    7          6       1                0  \n",
       "2        30         1    0    9          4       8                0  \n",
       "3         0         0    0   11          3       6                0  \n",
       "4         0         0    0   11          5       4                0  \n",
       "\n",
       "[5 rows x 22 columns]"
      ]
     },
     "execution_count": 4,
     "metadata": {},
     "output_type": "execute_result"
    }
   ],
   "source": [
    "df.head()"
   ]
  },
  {
   "cell_type": "code",
   "execution_count": 5,
   "metadata": {},
   "outputs": [
    {
     "data": {
      "text/plain": [
       "(253680, 22)"
      ]
     },
     "execution_count": 5,
     "metadata": {},
     "output_type": "execute_result"
    }
   ],
   "source": [
    "df.shape"
   ]
  },
  {
   "cell_type": "markdown",
   "metadata": {},
   "source": [
    "> b. convert categorical variables in dataframe"
   ]
  },
  {
   "cell_type": "code",
   "execution_count": 6,
   "metadata": {},
   "outputs": [
    {
     "data": {
      "text/plain": [
       "Index(['HighBP', 'HighChol', 'CholCheck', 'BMI', 'Smoker', 'Stroke',\n",
       "       'HeartDiseaseorAttack', 'PhysActivity', 'Fruits', 'Veggies',\n",
       "       'HvyAlcoholConsump', 'AnyHealthcare', 'NoDocbcCost', 'GenHlth',\n",
       "       'MentHlth', 'PhysHlth', 'DiffWalk', 'Sex', 'Age', 'Education', 'Income',\n",
       "       'Diabetes_binary'],\n",
       "      dtype='object')"
      ]
     },
     "execution_count": 6,
     "metadata": {},
     "output_type": "execute_result"
    }
   ],
   "source": [
    "df.columns"
   ]
  },
  {
   "cell_type": "code",
   "execution_count": 7,
   "metadata": {},
   "outputs": [],
   "source": [
    "categorical_vars = ['HighBP', 'HighChol', 'CholCheck', 'Smoker', 'Stroke', 'HeartDiseaseorAttack', \n",
    "                    'PhysActivity', 'Fruits', 'Veggies', 'HvyAlcoholConsump', 'AnyHealthcare', \n",
    "                    'NoDocbcCost', 'DiffWalk', 'Sex']\n",
    "\n",
    "for var in categorical_vars:\n",
    "    df[var] = df[var].astype('category')"
   ]
  },
  {
   "cell_type": "code",
   "execution_count": 8,
   "metadata": {},
   "outputs": [
    {
     "name": "stdout",
     "output_type": "stream",
     "text": [
      "<class 'pandas.core.frame.DataFrame'>\n",
      "RangeIndex: 253680 entries, 0 to 253679\n",
      "Data columns (total 22 columns):\n",
      " #   Column                Non-Null Count   Dtype   \n",
      "---  ------                --------------   -----   \n",
      " 0   HighBP                253680 non-null  category\n",
      " 1   HighChol              253680 non-null  category\n",
      " 2   CholCheck             253680 non-null  category\n",
      " 3   BMI                   253680 non-null  int64   \n",
      " 4   Smoker                253680 non-null  category\n",
      " 5   Stroke                253680 non-null  category\n",
      " 6   HeartDiseaseorAttack  253680 non-null  category\n",
      " 7   PhysActivity          253680 non-null  category\n",
      " 8   Fruits                253680 non-null  category\n",
      " 9   Veggies               253680 non-null  category\n",
      " 10  HvyAlcoholConsump     253680 non-null  category\n",
      " 11  AnyHealthcare         253680 non-null  category\n",
      " 12  NoDocbcCost           253680 non-null  category\n",
      " 13  GenHlth               253680 non-null  int64   \n",
      " 14  MentHlth              253680 non-null  int64   \n",
      " 15  PhysHlth              253680 non-null  int64   \n",
      " 16  DiffWalk              253680 non-null  category\n",
      " 17  Sex                   253680 non-null  category\n",
      " 18  Age                   253680 non-null  int64   \n",
      " 19  Education             253680 non-null  int64   \n",
      " 20  Income                253680 non-null  int64   \n",
      " 21  Diabetes_binary       253680 non-null  int64   \n",
      "dtypes: category(14), int64(8)\n",
      "memory usage: 18.9 MB\n"
     ]
    }
   ],
   "source": [
    "df.info()"
   ]
  },
  {
   "cell_type": "code",
   "execution_count": null,
   "metadata": {},
   "outputs": [],
   "source": []
  },
  {
   "cell_type": "markdown",
   "metadata": {},
   "source": [
    "## EDA"
   ]
  },
  {
   "cell_type": "markdown",
   "metadata": {},
   "source": [
    "**Univariate Analysis**\n",
    "\n",
    "In the univariate analysis, we would analyze the distribution of age, BMI, and blood pressure separately.\n",
    "\n",
    "Firstly, let's check the descriptive statistics of these variables."
   ]
  },
  {
   "cell_type": "code",
   "execution_count": 9,
   "metadata": {},
   "outputs": [
    {
     "data": {
      "text/html": [
       "<div>\n",
       "<style scoped>\n",
       "    .dataframe tbody tr th:only-of-type {\n",
       "        vertical-align: middle;\n",
       "    }\n",
       "\n",
       "    .dataframe tbody tr th {\n",
       "        vertical-align: top;\n",
       "    }\n",
       "\n",
       "    .dataframe thead th {\n",
       "        text-align: right;\n",
       "    }\n",
       "</style>\n",
       "<table border=\"1\" class=\"dataframe\">\n",
       "  <thead>\n",
       "    <tr style=\"text-align: right;\">\n",
       "      <th></th>\n",
       "      <th>BMI</th>\n",
       "      <th>GenHlth</th>\n",
       "      <th>MentHlth</th>\n",
       "      <th>PhysHlth</th>\n",
       "      <th>Age</th>\n",
       "      <th>Education</th>\n",
       "      <th>Income</th>\n",
       "      <th>Diabetes_binary</th>\n",
       "    </tr>\n",
       "  </thead>\n",
       "  <tbody>\n",
       "    <tr>\n",
       "      <th>count</th>\n",
       "      <td>253680.000000</td>\n",
       "      <td>253680.000000</td>\n",
       "      <td>253680.000000</td>\n",
       "      <td>253680.000000</td>\n",
       "      <td>253680.000000</td>\n",
       "      <td>253680.000000</td>\n",
       "      <td>253680.000000</td>\n",
       "      <td>253680.000000</td>\n",
       "    </tr>\n",
       "    <tr>\n",
       "      <th>mean</th>\n",
       "      <td>28.382364</td>\n",
       "      <td>2.511392</td>\n",
       "      <td>3.184772</td>\n",
       "      <td>4.242081</td>\n",
       "      <td>8.032119</td>\n",
       "      <td>5.050434</td>\n",
       "      <td>6.053875</td>\n",
       "      <td>0.139333</td>\n",
       "    </tr>\n",
       "    <tr>\n",
       "      <th>std</th>\n",
       "      <td>6.608694</td>\n",
       "      <td>1.068477</td>\n",
       "      <td>7.412847</td>\n",
       "      <td>8.717951</td>\n",
       "      <td>3.054220</td>\n",
       "      <td>0.985774</td>\n",
       "      <td>2.071148</td>\n",
       "      <td>0.346294</td>\n",
       "    </tr>\n",
       "    <tr>\n",
       "      <th>min</th>\n",
       "      <td>12.000000</td>\n",
       "      <td>1.000000</td>\n",
       "      <td>0.000000</td>\n",
       "      <td>0.000000</td>\n",
       "      <td>1.000000</td>\n",
       "      <td>1.000000</td>\n",
       "      <td>1.000000</td>\n",
       "      <td>0.000000</td>\n",
       "    </tr>\n",
       "    <tr>\n",
       "      <th>25%</th>\n",
       "      <td>24.000000</td>\n",
       "      <td>2.000000</td>\n",
       "      <td>0.000000</td>\n",
       "      <td>0.000000</td>\n",
       "      <td>6.000000</td>\n",
       "      <td>4.000000</td>\n",
       "      <td>5.000000</td>\n",
       "      <td>0.000000</td>\n",
       "    </tr>\n",
       "    <tr>\n",
       "      <th>50%</th>\n",
       "      <td>27.000000</td>\n",
       "      <td>2.000000</td>\n",
       "      <td>0.000000</td>\n",
       "      <td>0.000000</td>\n",
       "      <td>8.000000</td>\n",
       "      <td>5.000000</td>\n",
       "      <td>7.000000</td>\n",
       "      <td>0.000000</td>\n",
       "    </tr>\n",
       "    <tr>\n",
       "      <th>75%</th>\n",
       "      <td>31.000000</td>\n",
       "      <td>3.000000</td>\n",
       "      <td>2.000000</td>\n",
       "      <td>3.000000</td>\n",
       "      <td>10.000000</td>\n",
       "      <td>6.000000</td>\n",
       "      <td>8.000000</td>\n",
       "      <td>0.000000</td>\n",
       "    </tr>\n",
       "    <tr>\n",
       "      <th>max</th>\n",
       "      <td>98.000000</td>\n",
       "      <td>5.000000</td>\n",
       "      <td>30.000000</td>\n",
       "      <td>30.000000</td>\n",
       "      <td>13.000000</td>\n",
       "      <td>6.000000</td>\n",
       "      <td>8.000000</td>\n",
       "      <td>1.000000</td>\n",
       "    </tr>\n",
       "  </tbody>\n",
       "</table>\n",
       "</div>"
      ],
      "text/plain": [
       "                 BMI        GenHlth       MentHlth       PhysHlth  \\\n",
       "count  253680.000000  253680.000000  253680.000000  253680.000000   \n",
       "mean       28.382364       2.511392       3.184772       4.242081   \n",
       "std         6.608694       1.068477       7.412847       8.717951   \n",
       "min        12.000000       1.000000       0.000000       0.000000   \n",
       "25%        24.000000       2.000000       0.000000       0.000000   \n",
       "50%        27.000000       2.000000       0.000000       0.000000   \n",
       "75%        31.000000       3.000000       2.000000       3.000000   \n",
       "max        98.000000       5.000000      30.000000      30.000000   \n",
       "\n",
       "                 Age      Education         Income  Diabetes_binary  \n",
       "count  253680.000000  253680.000000  253680.000000    253680.000000  \n",
       "mean        8.032119       5.050434       6.053875         0.139333  \n",
       "std         3.054220       0.985774       2.071148         0.346294  \n",
       "min         1.000000       1.000000       1.000000         0.000000  \n",
       "25%         6.000000       4.000000       5.000000         0.000000  \n",
       "50%         8.000000       5.000000       7.000000         0.000000  \n",
       "75%        10.000000       6.000000       8.000000         0.000000  \n",
       "max        13.000000       6.000000       8.000000         1.000000  "
      ]
     },
     "execution_count": 9,
     "metadata": {},
     "output_type": "execute_result"
    }
   ],
   "source": [
    "df.describe()"
   ]
  },
  {
   "cell_type": "code",
   "execution_count": 10,
   "metadata": {},
   "outputs": [
    {
     "data": {
      "image/png": "[encoded data removed]",
      "text/plain": [
       "<Figure size 1200x400 with 3 Axes>"
      ]
     },
     "metadata": {},
     "output_type": "display_data"
    }
   ],
   "source": [
    "fig, axs = plt.subplots(1, 3, figsize=(12, 4))\n",
    "\n",
    "df['BMI'].plot(kind='hist', bins=20, ax=axs[0], color='lightgreen', edgecolor='white')\n",
    "axs[0].set_title('Distribution of Body Mass Index')\n",
    "axs[0].set_xlabel('Body Mass Index')\n",
    "\n",
    "df['MentHlth'].plot(kind='hist', bins=20, ax=axs[1], color='pink', edgecolor='white')\n",
    "axs[1].set_title('Distribution of self-reported mental health')\n",
    "axs[1].set_xlabel('ndays')\n",
    "\n",
    "df['PhysHlth'].plot(kind='hist', bins=20, ax=axs[2], color='lightsteelblue', edgecolor='white')\n",
    "axs[2].set_title('Distribution of self-reported physical health')\n",
    "axs[2].set_xlabel('ndays')\n",
    "\n",
    "plt.tight_layout()\n",
    "plt.show()"
   ]
  },
  {
   "cell_type": "code",
   "execution_count": null,
   "metadata": {},
   "outputs": [],
   "source": []
  },
  {
   "cell_type": "code",
   "execution_count": null,
   "metadata": {},
   "outputs": [],
   "source": []
  },
  {
   "cell_type": "markdown",
   "metadata": {},
   "source": [
    "## Inferential Analysis: logistic regression model\n",
    "\n",
    "The relationship is not apparent in scatterplot visualization, it is necessary to assess the results of a logistic regression to determine whether there is a statistically significant relationship between variables and diabetes."
   ]
  },
  {
   "cell_type": "code",
   "execution_count": 11,
   "metadata": {},
   "outputs": [
    {
     "data": {
      "text/plain": [
       "'Diabetes_binary ~ HighBP + HighChol + CholCheck + BMI + Smoker + Stroke + HeartDiseaseorAttack + PhysActivity + Fruits + Veggies + HvyAlcoholConsump + AnyHealthcare + NoDocbcCost + GenHlth + MentHlth + PhysHlth + DiffWalk + Sex + Age + Education + Income'"
      ]
     },
     "execution_count": 11,
     "metadata": {},
     "output_type": "execute_result"
    }
   ],
   "source": [
    "response = 'Diabetes_binary'\n",
    "covariates = df.columns.drop(response)\n",
    "formula = f\"{response} ~ {' + '.join(covariates)}\"\n",
    "formula"
   ]
  },
  {
   "cell_type": "code",
   "execution_count": 12,
   "metadata": {},
   "outputs": [
    {
     "name": "stdout",
     "output_type": "stream",
     "text": [
      "Optimization terminated successfully.\n",
      "         Current function value: 0.319662\n",
      "         Iterations 8\n",
      "                           Logit Regression Results                           \n",
      "==============================================================================\n",
      "Dep. Variable:        Diabetes_binary   No. Observations:               253680\n",
      "Model:                          Logit   Df Residuals:                   253658\n",
      "Method:                           MLE   Df Model:                           21\n",
      "Date:                Tue, 04 Jun 2024   Pseudo R-squ.:                  0.2083\n",
      "Time:                        03:17:50   Log-Likelihood:                -81092.\n",
      "converged:                       True   LL-Null:                   -1.0242e+05\n",
      "Covariance Type:            nonrobust   LLR p-value:                     0.000\n",
      "=============================================================================================\n",
      "                                coef    std err          z      P>|z|      [0.025      0.975]\n",
      "---------------------------------------------------------------------------------------------\n",
      "Intercept                    -7.8362      0.094    -83.760      0.000      -8.020      -7.653\n",
      "HighBP[T.1]                   0.7576      0.015     51.332      0.000       0.729       0.786\n",
      "HighChol[T.1]                 0.5785      0.014     42.557      0.000       0.552       0.605\n",
      "CholCheck[T.1]                1.2440      0.069     18.139      0.000       1.110       1.378\n",
      "Smoker[T.1]                  -0.0104      0.013     -0.787      0.431      -0.036       0.015\n",
      "Stroke[T.1]                   0.1342      0.025      5.346      0.000       0.085       0.183\n",
      "HeartDiseaseorAttack[T.1]     0.2204      0.018     12.383      0.000       0.186       0.255\n",
      "PhysActivity[T.1]            -0.0518      0.014     -3.586      0.000      -0.080      -0.023\n",
      "Fruits[T.1]                  -0.0499      0.014     -3.647      0.000      -0.077      -0.023\n",
      "Veggies[T.1]                 -0.0332      0.016     -2.083      0.037      -0.064      -0.002\n",
      "HvyAlcoholConsump[T.1]       -0.7692      0.039    -19.963      0.000      -0.845      -0.694\n",
      "AnyHealthcare[T.1]            0.0827      0.033      2.470      0.014       0.017       0.148\n",
      "NoDocbcCost[T.1]              0.0180      0.023      0.780      0.436      -0.027       0.063\n",
      "DiffWalk[T.1]                 0.1232      0.017      7.255      0.000       0.090       0.156\n",
      "Sex[T.1]                      0.2581      0.013     19.182      0.000       0.232       0.285\n",
      "BMI                           0.0609      0.001     67.599      0.000       0.059       0.063\n",
      "GenHlth                       0.5359      0.008     65.862      0.000       0.520       0.552\n",
      "MentHlth                     -0.0036      0.001     -4.253      0.000      -0.005      -0.002\n",
      "PhysHlth                     -0.0074      0.001     -9.454      0.000      -0.009      -0.006\n",
      "Age                           0.1236      0.003     44.200      0.000       0.118       0.129\n",
      "Education                    -0.0308      0.007     -4.422      0.000      -0.044      -0.017\n",
      "Income                       -0.0515      0.004    -14.423      0.000      -0.058      -0.044\n",
      "=============================================================================================\n"
     ]
    }
   ],
   "source": [
    "model = smf.logit(formula, data=df).fit()\n",
    "print(model.summary())"
   ]
  },
  {
   "cell_type": "markdown",
   "metadata": {},
   "source": [
    "> Identify the covariates which are statistically significant at a 5% significance level."
   ]
  },
  {
   "cell_type": "code",
   "execution_count": 13,
   "metadata": {},
   "outputs": [
    {
     "data": {
      "text/plain": [
       "['Intercept',\n",
       " 'HighBP[T.1]',\n",
       " 'HighChol[T.1]',\n",
       " 'CholCheck[T.1]',\n",
       " 'Stroke[T.1]',\n",
       " 'HeartDiseaseorAttack[T.1]',\n",
       " 'PhysActivity[T.1]',\n",
       " 'Fruits[T.1]',\n",
       " 'Veggies[T.1]',\n",
       " 'HvyAlcoholConsump[T.1]',\n",
       " 'AnyHealthcare[T.1]',\n",
       " 'DiffWalk[T.1]',\n",
       " 'Sex[T.1]',\n",
       " 'BMI',\n",
       " 'GenHlth',\n",
       " 'MentHlth',\n",
       " 'PhysHlth',\n",
       " 'Age',\n",
       " 'Education',\n",
       " 'Income']"
      ]
     },
     "execution_count": 13,
     "metadata": {},
     "output_type": "execute_result"
    }
   ],
   "source": [
    "alpha = 0.05\n",
    "summary_table = model.summary().tables[1].as_html()\n",
    "summary_df = pd.read_html(summary_table, header=0, index_col=0)[0]\n",
    "p_values = summary_df['P>|z|']\n",
    "\n",
    "stats_sig = []\n",
    "\n",
    "for i in range(len(p_values)):\n",
    "    if p_values.values[i] < alpha:\n",
    "        stats_sig.append(p_values.index[i])\n",
    "\n",
    "stats_sig"
   ]
  },
  {
   "cell_type": "markdown",
   "metadata": {},
   "source": [
    "> Based on the variables identified above, fit a new logistic regression model only including those covariates."
   ]
  },
  {
   "cell_type": "code",
   "execution_count": 14,
   "metadata": {},
   "outputs": [
    {
     "name": "stdout",
     "output_type": "stream",
     "text": [
      "Optimization terminated successfully.\n",
      "         Current function value: 0.319664\n",
      "         Iterations 8\n",
      "                           Logit Regression Results                           \n",
      "==============================================================================\n",
      "Dep. Variable:        Diabetes_binary   No. Observations:               253680\n",
      "Model:                          Logit   Df Residuals:                   253660\n",
      "Method:                           MLE   Df Model:                           19\n",
      "Date:                Tue, 04 Jun 2024   Pseudo R-squ.:                  0.2083\n",
      "Time:                        03:18:42   Log-Likelihood:                -81092.\n",
      "converged:                       True   LL-Null:                   -1.0242e+05\n",
      "Covariance Type:            nonrobust   LLR p-value:                     0.000\n",
      "=============================================================================================\n",
      "                                coef    std err          z      P>|z|      [0.025      0.975]\n",
      "---------------------------------------------------------------------------------------------\n",
      "Intercept                    -7.8317      0.092    -84.974      0.000      -8.012      -7.651\n",
      "HighBP[T.1]                   0.7577      0.015     51.347      0.000       0.729       0.787\n",
      "HighChol[T.1]                 0.5783      0.014     42.576      0.000       0.552       0.605\n",
      "CholCheck[T.1]                1.2431      0.069     18.133      0.000       1.109       1.377\n",
      "Stroke[T.1]                   0.1341      0.025      5.345      0.000       0.085       0.183\n",
      "HeartDiseaseorAttack[T.1]     0.2198      0.018     12.371      0.000       0.185       0.255\n",
      "PhysActivity[T.1]            -0.0515      0.014     -3.569      0.000      -0.080      -0.023\n",
      "Fruits[T.1]                  -0.0495      0.014     -3.617      0.000      -0.076      -0.023\n",
      "Veggies[T.1]                 -0.0333      0.016     -2.096      0.036      -0.065      -0.002\n",
      "HvyAlcoholConsump[T.1]       -0.7713      0.038    -20.073      0.000      -0.847      -0.696\n",
      "AnyHealthcare[T.1]            0.0777      0.033      2.364      0.018       0.013       0.142\n",
      "DiffWalk[T.1]                 0.1232      0.017      7.264      0.000       0.090       0.156\n",
      "Sex[T.1]                      0.2565      0.013     19.240      0.000       0.230       0.283\n",
      "BMI                           0.0609      0.001     67.691      0.000       0.059       0.063\n",
      "GenHlth                       0.5360      0.008     65.963      0.000       0.520       0.552\n",
      "MentHlth                     -0.0036      0.001     -4.235      0.000      -0.005      -0.002\n",
      "PhysHlth                     -0.0074      0.001     -9.452      0.000      -0.009      -0.006\n",
      "Age                           0.1233      0.003     44.555      0.000       0.118       0.129\n",
      "Education                    -0.0304      0.007     -4.370      0.000      -0.044      -0.017\n",
      "Income                       -0.0517      0.004    -14.571      0.000      -0.059      -0.045\n",
      "=============================================================================================\n"
     ]
    }
   ],
   "source": [
    "lr_new_formula = 'Diabetes_binary ~ HighBP + HighChol + CholCheck + BMI + Stroke + HeartDiseaseorAttack + PhysActivity + Fruits + Veggies + HvyAlcoholConsump + AnyHealthcare + GenHlth + MentHlth + PhysHlth + DiffWalk + Sex + Age + Education + Income'\n",
    "model2 = smf.logit(lr_new_formula, data=df).fit()\n",
    "print(model2.summary())"
   ]
  },
  {
   "cell_type": "code",
   "execution_count": 29,
   "metadata": {},
   "outputs": [
    {
     "name": "stdout",
     "output_type": "stream",
     "text": [
      "Optimization terminated successfully.\n",
      "         Current function value: 0.319664\n",
      "         Iterations 8\n",
      "                           Logit Regression Results                           \n",
      "==============================================================================\n",
      "Dep. Variable:        Diabetes_binary   No. Observations:               253680\n",
      "Model:                          Logit   Df Residuals:                   253660\n",
      "Method:                           MLE   Df Model:                           19\n",
      "Date:                Tue, 04 Jun 2024   Pseudo R-squ.:                  0.2083\n",
      "Time:                        04:28:21   Log-Likelihood:                -81092.\n",
      "converged:                       True   LL-Null:                   -1.0242e+05\n",
      "Covariance Type:            nonrobust   LLR p-value:                     0.000\n",
      "========================================================================================\n",
      "                           coef    std err          z      P>|z|      [0.025      0.975]\n",
      "----------------------------------------------------------------------------------------\n",
      "const                   -7.8317      0.092    -84.974      0.000      -8.012      -7.651\n",
      "HighBP                   0.7577      0.015     51.347      0.000       0.729       0.787\n",
      "HighChol                 0.5783      0.014     42.576      0.000       0.552       0.605\n",
      "CholCheck                1.2431      0.069     18.133      0.000       1.109       1.377\n",
      "BMI                      0.0609      0.001     67.691      0.000       0.059       0.063\n",
      "Stroke                   0.1341      0.025      5.345      0.000       0.085       0.183\n",
      "HeartDiseaseorAttack     0.2198      0.018     12.371      0.000       0.185       0.255\n",
      "PhysActivity            -0.0515      0.014     -3.569      0.000      -0.080      -0.023\n",
      "Fruits                  -0.0495      0.014     -3.617      0.000      -0.076      -0.023\n",
      "Veggies                 -0.0333      0.016     -2.096      0.036      -0.065      -0.002\n",
      "HvyAlcoholConsump       -0.7713      0.038    -20.073      0.000      -0.847      -0.696\n",
      "AnyHealthcare            0.0777      0.033      2.364      0.018       0.013       0.142\n",
      "GenHlth                  0.5360      0.008     65.963      0.000       0.520       0.552\n",
      "MentHlth                -0.0036      0.001     -4.235      0.000      -0.005      -0.002\n",
      "PhysHlth                -0.0074      0.001     -9.452      0.000      -0.009      -0.006\n",
      "DiffWalk                 0.1232      0.017      7.264      0.000       0.090       0.156\n",
      "Sex                      0.2565      0.013     19.240      0.000       0.230       0.283\n",
      "Age                      0.1233      0.003     44.555      0.000       0.118       0.129\n",
      "Education               -0.0304      0.007     -4.370      0.000      -0.044      -0.017\n",
      "Income                  -0.0517      0.004    -14.571      0.000      -0.059      -0.045\n",
      "========================================================================================\n"
     ]
    }
   ],
   "source": [
    "endog = df['Diabetes_binary']\n",
    "exog = sm.add_constant(df.drop(columns=['Diabetes_binary', 'Smoker', 'NoDocbcCost']))\n",
    "\n",
    "model3 = sm.Logit(endog, exog)\n",
    "result = model3.fit()\n",
    "print(result.summary())"
   ]
  },
  {
   "cell_type": "markdown",
   "metadata": {},
   "source": [
    "> Interpret each coefficient associated with the covariates in the new logistic regression model, `model2`."
   ]
  },
  {
   "cell_type": "code",
   "execution_count": null,
   "metadata": {},
   "outputs": [],
   "source": []
  },
  {
   "cell_type": "markdown",
   "metadata": {},
   "source": [
    "### Model Diagnostics"
   ]
  },
  {
   "cell_type": "markdown",
   "metadata": {},
   "source": [
    "> Fitted values and residuals"
   ]
  },
  {
   "cell_type": "markdown",
   "metadata": {},
   "source": [
    "The plot of residuals vs observations is randomly distributed "
   ]
  },
  {
   "cell_type": "code",
   "execution_count": 15,
   "metadata": {},
   "outputs": [
    {
     "data": {
      "text/plain": [
       "<matplotlib.collections.PathCollection at 0x7fb50298c940>"
      ]
     },
     "execution_count": 15,
     "metadata": {},
     "output_type": "execute_result"
    },
    {
     "data": {
      "image/png": "[encoded data removed]",
      "text/plain": [
       "<Figure size 640x480 with 1 Axes>"
      ]
     },
     "metadata": {},
     "output_type": "display_data"
    }
   ],
   "source": [
    "residuals = model2.resid_pearson\n",
    "plt.scatter(range(len(residuals)), residuals)"
   ]
  },
  {
   "cell_type": "markdown",
   "metadata": {},
   "source": [
    "> confusion matrix and classification accuracy of `model2`."
   ]
  },
  {
   "cell_type": "markdown",
   "metadata": {},
   "source": [
    "The accuracy of 0.8636 indicates that this logistic regression model correctly classifies approximately 86.36% of the instances."
   ]
  },
  {
   "cell_type": "code",
   "execution_count": 21,
   "metadata": {},
   "outputs": [
    {
     "data": {
      "text/plain": [
       "array([[213565.,   4769.],\n",
       "       [ 29831.,   5515.]])"
      ]
     },
     "execution_count": 21,
     "metadata": {},
     "output_type": "execute_result"
    }
   ],
   "source": [
    "c_matrix = model2.pred_table(threshold=0.5)\n",
    "c_matrix"
   ]
  },
  {
   "cell_type": "code",
   "execution_count": 22,
   "metadata": {},
   "outputs": [
    {
     "data": {
      "text/plain": [
       "0.8636076947335225"
      ]
     },
     "execution_count": 22,
     "metadata": {},
     "output_type": "execute_result"
    }
   ],
   "source": [
    "accuracy = (c_matrix[0,0] + c_matrix[1,1]) / c_matrix.sum()\n",
    "accuracy"
   ]
  },
  {
   "cell_type": "markdown",
   "metadata": {},
   "source": [
    "> ROC curve and AUC score of `model2`."
   ]
  },
  {
   "cell_type": "markdown",
   "metadata": {},
   "source": [
    "The Receiver Operating Characteristic (ROC) curve is a graphical representation of the trade-off between the true positive rate and the false positive rate for every possible cut-off value. An AUC score of 0.8221 suggests that the model is fairly accurate, and it has a good ability to discriminate between thepositive and negative classes. \n"
   ]
  },
  {
   "cell_type": "code",
   "execution_count": 25,
   "metadata": {},
   "outputs": [
    {
     "name": "stderr",
     "output_type": "stream",
     "text": [
      "No artists with labels found to put in legend.  Note that artists whose label start with an underscore are ignored when legend() is called with no argument.\n"
     ]
    },
    {
     "data": {
      "text/plain": [
       "<sklearn.metrics._plot.roc_curve.RocCurveDisplay at 0x7faec1131cd0>"
      ]
     },
     "execution_count": 25,
     "metadata": {},
     "output_type": "execute_result"
    },
    {
     "data": {
      "image/png": "[encoded data removed]",
      "text/plain": [
       "<Figure size 640x480 with 1 Axes>"
      ]
     },
     "metadata": {},
     "output_type": "display_data"
    }
   ],
   "source": [
    "fpr, tpr, thresholds = metrics.roc_curve(df['Diabetes_binary'], model2.predict(df))\n",
    "\n",
    "indx = (0.1 - 5e-3 <= thresholds) * (thresholds <= 0.1 + 5e-3)\n",
    "tpr[indx], fpr[indx],  thresholds[indx]\n",
    "\n",
    "metrics.RocCurveDisplay(fpr=fpr, tpr=tpr).plot()"
   ]
  },
  {
   "cell_type": "code",
   "execution_count": 26,
   "metadata": {},
   "outputs": [
    {
     "data": {
      "text/plain": [
       "0.8221077341880488"
      ]
     },
     "execution_count": 26,
     "metadata": {},
     "output_type": "execute_result"
    }
   ],
   "source": [
    "metrics.roc_auc_score(df['Diabetes_binary'], model.predict(df))"
   ]
  },
  {
   "cell_type": "code",
   "execution_count": null,
   "metadata": {},
   "outputs": [],
   "source": []
  },
  {
   "cell_type": "code",
   "execution_count": null,
   "metadata": {},
   "outputs": [],
   "source": []
  },
  {
   "cell_type": "code",
   "execution_count": null,
   "metadata": {},
   "outputs": [],
   "source": []
  }
 ],
 "metadata": {
  "colab": {
   "provenance": []
  },
  "kernelspec": {
   "display_name": "Python 3 (ipykernel)",
   "language": "python",
   "name": "python3"
  },
  "language_info": {
   "codemirror_mode": {
    "name": "ipython",
    "version": 3
   },
   "file_extension": ".py",
   "mimetype": "text/x-python",
   "name": "python",
   "nbconvert_exporter": "python",
   "pygments_lexer": "ipython3",
   "version": "3.8.15"
  }
 },
 "nbformat": 4,
 "nbformat_minor": 4
}
